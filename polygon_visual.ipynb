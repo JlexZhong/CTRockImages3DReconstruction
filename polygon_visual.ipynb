{
 "cells": [
  {
   "cell_type": "code",
   "execution_count": 1,
   "metadata": {},
   "outputs": [],
   "source": [
    "from ast import Return\n",
    "import math\n",
    "import sys\n",
    "import random\n",
    "import cv2\n",
    "import numpy as np\n",
    "from matplotlib.path import Path"
   ]
  },
  {
   "cell_type": "code",
   "execution_count": 2,
   "metadata": {},
   "outputs": [],
   "source": [
    "import cv2"
   ]
  },
  {
   "cell_type": "code",
   "execution_count": 2,
   "metadata": {},
   "outputs": [],
   "source": [
    "import sys\n",
    "import cv2\n",
    "from importlib_metadata import re\n",
    "import numpy as np\n",
    "from PIL import Image\n",
    "from scipy.ndimage.measurements import label,find_objects,center_of_mass\n",
    "import math\n",
    "import os"
   ]
  },
  {
   "cell_type": "code",
   "execution_count": 3,
   "metadata": {},
   "outputs": [],
   "source": [
    "\n",
    "def get_random_color():\n",
    "    \"\"\"获取一个随机的颜色\"\"\"\n",
    "    #random.uniform(0, 100)\n",
    "    r = lambda: random.uniform(0,1)\n",
    "    return [r(),r(),r(),1]\n",
    "\n",
    "def extract_contour(r_img):\n",
    "    \"\"\"传入一个图像，返回该图像的所有mask的边界轮廓矩阵\n",
    "    \"\"\"\n",
    "    img = cv2.cvtColor(np.asarray(r_img),cv2.COLOR_RGB2BGR)\n",
    "    \n",
    "    gray        = cv2.cvtColor(img, cv2.COLOR_BGR2GRAY) # 彩色图变灰度图\n",
    "    _,binary    = cv2.threshold(gray,127,255,cv2.THRESH_BINARY) # 灰度图变二值图\n",
    "    contours, _ = cv2.findContours(binary, cv2.RETR_TREE, cv2.CHAIN_APPROX_SIMPLE) # 根据二值图找轮廓\n",
    "    # cv2.drawContours(img,contours,-1,(0,0,255),1) # 把轮廓画在原图上（0,0,255） 表示 RGB 三通道，红色\n",
    "    return contours\n",
    "\n",
    "def calculate_two_central_points(contour_pixel_xy_list):\n",
    "    \"\"\"计算两个假中心点\n",
    "\n",
    "    Args:\n",
    "        contour_pixel_xy_list (np.array): 一个目标的所有边界像素点坐标\n",
    "    \"\"\" \n",
    "    num_pixel           = len(contour_pixel_xy_list)\n",
    "    # 获取四个点的坐标\n",
    "    first_xy            = contour_pixel_xy_list[0]\n",
    "    half_xy             = contour_pixel_xy_list[int(num_pixel/2)]\n",
    "    quarter_xy          = contour_pixel_xy_list[int(num_pixel/4)]\n",
    "    three_quarters_xy   = contour_pixel_xy_list[(int(num_pixel/4)) + int((num_pixel/2)) ]\n",
    "    # 计算第一个假中心点\n",
    "    central_point_1_x   = ((math.fabs(first_xy[0][0] - half_xy[0][0])) / 2) + min(first_xy[0][0],half_xy[0][0])\n",
    "    central_point_1_y   = ((math.fabs(first_xy[0][1] - half_xy[0][1])) / 2) + min(first_xy[0][1],half_xy[0][1])\n",
    "    central_points_1_xy = [central_point_1_x,central_point_1_y]\n",
    "    # 计算第二个假中心点\n",
    "    central_point_2_x   = ((math.fabs(quarter_xy[0][0] - three_quarters_xy[0][0])) / 2) + min(quarter_xy[0][0],three_quarters_xy[0][0])\n",
    "    central_point_2_y   = ((math.fabs(quarter_xy[0][1] - three_quarters_xy[0][1])) / 2) + min(quarter_xy[0][1],three_quarters_xy[0][1])\n",
    "    central_points_2_xy = [central_point_2_x,central_point_2_y]\n",
    "    # \n",
    "    central_points      = []\n",
    "    central_points.append(central_points_1_xy)\n",
    "    central_points.append(central_points_2_xy)\n",
    "    central_points      = np.array(central_points)\n",
    "    central_points.reshape((2,2))\n",
    "    \n",
    "    return central_points\n",
    "\n",
    "def calculate_central_points(contours):\n",
    "    \"\"\"传入一张图像的所有边界矩阵，，依次遍历目标然后调用calculate_central_points，返回该图像的所有假中心点的矩阵\n",
    "    \"\"\"\n",
    "    central_points          = []\n",
    "    for i in range(len(contours)):\n",
    "        two_central_points  = calculate_two_central_points(contours[i])\n",
    "        central_points.append(two_central_points)\n",
    "    central_points          = np.array(central_points)\n",
    "    # print(central_points_list)\n",
    "    return central_points\n",
    "\n",
    "\n",
    "def is_central_points_on_polygons(contour,central_points):\n",
    "    \"\"\"\n",
    "    判断两个假中心点是否在轮廓内\n",
    "    \"\"\"\n",
    "    # cv2.pointPolygonTest只接受元组\n",
    "    central_points_1_xy     = (central_points[0][0],central_points[0][1])\n",
    "    central_points_2_xy     = (central_points[1][0],central_points[1][1])\n",
    "    distance_point1             = cv2.pointPolygonTest(contour,\n",
    "                                                   central_points_1_xy, True)\n",
    "    distance_point2             = cv2.pointPolygonTest(contour,\n",
    "                                                   central_points_2_xy, True)\n",
    "    if ((distance_point2 or distance_point1) >= 0) :      \n",
    "        return True\n",
    "    elif (-10 <= (distance_point1 and distance_point2) < 0 ):\n",
    "        return True\n",
    "    else:\n",
    "        return False\n",
    "\n",
    "def compare_area(contours_list,m,n,now_img_id):\n",
    "    \"\"\"\n",
    "    计算两个边界矩阵面积的大小,返回较大值index\n",
    "    \"\"\"\n",
    "    area_m      = cv2.contourArea(contours_list[now_img_id - 1][m - 1])\n",
    "    area_n      = cv2.contourArea(contours_list[now_img_id - 2][n - 1])\n",
    "    max_contour = max(area_m,area_n)\n",
    "    # 返回m/n\n",
    "    if max_contour == area_m:\n",
    "        return \"m\"\n",
    "    else:\n",
    "        return \"n\"\n",
    "\n",
    "           \n",
    "             \n",
    "def IsSameRock(m,n,now_img_id,contours_list,central_points_list):\n",
    "    \"\"\"\n",
    "    两边界矩阵属于同一个砾石，给予相同的砾石编号\n",
    "    \"\"\"\n",
    "    max_id      = compare_area(contours_list,m,n,now_img_id)\n",
    "    if max_id   == \"m\":\n",
    "        flag    = is_central_points_on_polygons(contours_list[now_img_id - 1][m - 1],\n",
    "                                                central_points_list[now_img_id - 2][n - 1])\n",
    "    else:\n",
    "        flag    = is_central_points_on_polygons(contours_list[now_img_id - 2][n - 1],\n",
    "                                                central_points_list[now_img_id - 1][m - 1])\n",
    "    return flag      \n",
    "\n",
    "\n",
    "def IsSameRock_2(m,n,now_img_id,contours_list,central_points_list):\n",
    "    \"\"\"\n",
    "    两边界矩阵属于同一个砾石，给予相同的砾石编号\n",
    "    \"\"\"\n",
    "    max_id      = compare_area(contours_list,m,n,now_img_id)\n",
    "    if max_id   == \"m\":\n",
    "        xq = [central_points_list[now_img_id - 2][n - 1][0][0],\n",
    "              central_points_list[now_img_id - 2][n - 1][0][1]]\n",
    "        yq = [central_points_list[now_img_id - 2][n - 1][1][0],\n",
    "              central_points_list[now_img_id - 2][n - 1][1][1]]\n",
    "        xv = []\n",
    "        yv = []\n",
    "        for i in range(len(contours_list[now_img_id - 1][m - 1])):\n",
    "            xv.append(contours_list[now_img_id - 1][m - 1][i][0][0])\n",
    "            yv.append(contours_list[now_img_id - 1][m - 1][i][0][1])\n",
    "        xq = np.array(xq)\n",
    "        yq = np.array(yq)\n",
    "        xv = np.array(xv)\n",
    "        yv = np.array(yv)\n",
    "        _,flag     = inpolygon(xq,yq,xv,yv)\n",
    "    else:\n",
    "        xq = [central_points_list[now_img_id - 1][m - 1][0][0],\n",
    "              central_points_list[now_img_id - 1][m - 1][0][1]]\n",
    "        yq = [central_points_list[now_img_id - 1][m - 1][1][0],\n",
    "              central_points_list[now_img_id - 1][m - 1][1][1]]\n",
    "        xv = []\n",
    "        yv = []\n",
    "        for i in range(len(contours_list[now_img_id - 2][n - 1])):\n",
    "            xv.append(contours_list[now_img_id - 2][n - 1][i][0][0])\n",
    "            yv.append(contours_list[now_img_id - 2][n - 1][i][0][1])\n",
    "        xq = np.array(xq)\n",
    "        yq = np.array(yq)\n",
    "        xv = np.array(xv)\n",
    "        yv = np.array(yv)\n",
    "        _,flag    = inpolygon(xq,yq,xv,yv)\n",
    "    if (flag[0] or flag[1]) == True:\n",
    "        return True\n",
    "    else:\n",
    "        return False\n",
    "\n",
    "\n",
    "def inpolygon(xq, yq, xv, yv):\n",
    "    \"\"\"\n",
    "    reimplement inpolygon in matlab\n",
    "    :type xq: np.ndarray\n",
    "    :type yq: np.ndarray\n",
    "    :type xv: np.ndarray\n",
    "    :type yv: np.ndarray\n",
    "    \"\"\"\n",
    "    # 合并xv和yv为顶点数组\n",
    "    vertices = np.vstack((xv, yv)).T\n",
    "    # 定义Path对象\n",
    "    path = Path(vertices)\n",
    "    # 把xq和yq合并为test_points\n",
    "    test_points = np.hstack([xq.reshape(xq.size, -1), yq.reshape(yq.size, -1)])\n",
    "    # 得到一个test_points是否严格在path内的mask，是bool值数组\n",
    "    _in = path.contains_points(test_points)\n",
    "    # 得到一个test_points是否在path内部或者在路径上的mask\n",
    "    _in_on = path.contains_points(test_points, radius=-1e-10)\n",
    "    # 得到一个test_points是否在path路径上的mask\n",
    "    _on = _in ^ _in_on\n",
    "    \n",
    "    return _in_on, _on\n"
   ]
  },
  {
   "cell_type": "code",
   "execution_count": 4,
   "metadata": {},
   "outputs": [],
   "source": [
    "rocks_img_path = r\"E:\\\\My Projects\\\\rocks_view\\\\git_ignore\\\\test\\\\total_result-01-18\"# \n",
    "import os\n",
    "rocks_images_name = os.listdir(rocks_img_path) "
   ]
  },
  {
   "cell_type": "code",
   "execution_count": 5,
   "metadata": {},
   "outputs": [],
   "source": [
    "r_imgs = []\n",
    "contours_list = []"
   ]
  },
  {
   "cell_type": "code",
   "execution_count": 6,
   "metadata": {},
   "outputs": [],
   "source": [
    "for i in range(len(rocks_images_name)):\n",
    "        rock_img = Image.open(os.path.join(rocks_img_path,rocks_images_name[i])) \n",
    "        r_imgs.append(rock_img)\n",
    "# 计算每个图像的所有mask的边界矩阵\n",
    "for i in range(len(r_imgs)):\n",
    "    contours = extract_contour(r_imgs[i])\n",
    "    contours = np.array(contours)\n",
    "    contours_list.append(contours)\n",
    "# contours_list = np.array(contours_list)\n",
    "\n",
    "\n",
    "\n",
    "# 计算每个图像中的所有mask的假中心点\n",
    "central_points_list = []\n",
    "for i in range(len(r_imgs)):\n",
    "    central_points = calculate_central_points(contours_list[i])\n",
    "    central_points_list.append(central_points)\n",
    "central_points_list = np.array(central_points_list)\n",
    "\n",
    "    "
   ]
  },
  {
   "cell_type": "code",
   "execution_count": 14,
   "metadata": {},
   "outputs": [],
   "source": [
    "# 绘制绿色轮廓\n",
    "img = cv2.imread(os.path.join(rocks_img_path,rocks_images_name[1]))\n",
    "cv2.drawContours(img, contours_list[1], 1, (0,255,0), 2)\n",
    "\n",
    "cv2.imshow(\"draw\", img)\n",
    "\n",
    "cv2.waitKey(0)\n",
    "cv2.destroyAllWindows()"
   ]
  },
  {
   "cell_type": "code",
   "execution_count": 15,
   "metadata": {},
   "outputs": [],
   "source": [
    "central_points_1 = calculate_two_central_points(contours_list[1][1])"
   ]
  },
  {
   "cell_type": "code",
   "execution_count": 7,
   "metadata": {},
   "outputs": [],
   "source": [
    "def plot_central_points(img_index,contours):\n",
    "    # 绘制绿色轮廓\n",
    "    img = cv2.imread(os.path.join(rocks_img_path,rocks_images_name[img_index]))\n",
    "    font = cv2.FONT_HERSHEY_SIMPLEX\n",
    "    central_points1_list = []\n",
    "    for i in range(len(contours)):\n",
    "        color = get_random_color()\n",
    "        color = (int(color[0] * 255),int(color[1] * 255),int(color[2] * 255))\n",
    "        central_points = calculate_two_central_points(contours[i])\n",
    "        central_points1 = (int(central_points[0][0]),int(central_points[0][1]))\n",
    "        central_points2 = (int(central_points[1][0]),int(central_points[1][1]))\n",
    "        central_points1_list.append(central_points1)\n",
    "        cv2.drawContours(img, contours[i], -1, color, 2)\n",
    "        cv2.circle(img,central_points1,1,color,4)\n",
    "        cv2.circle(img,central_points2,1,color,4)\n",
    "        cv2.putText(img, str(i), central_points2, font, 1,color, 1)\n",
    "    print(contours[1])\n",
    "    cv2.imshow(\"draw\", img)\n",
    "    cv2.waitKey(0)\n",
    "    cv2.destroyAllWindows()"
   ]
  },
  {
   "cell_type": "code",
   "execution_count": 20,
   "metadata": {},
   "outputs": [],
   "source": [
    "area_m      = cv2.contourArea(contours_list[0][6])\n",
    "area_n      = cv2.contourArea(contours_list[1][8])"
   ]
  },
  {
   "cell_type": "code",
   "execution_count": 22,
   "metadata": {},
   "outputs": [
    {
     "data": {
      "text/plain": [
       "595.5"
      ]
     },
     "execution_count": 22,
     "metadata": {},
     "output_type": "execute_result"
    }
   ],
   "source": [
    "area_n"
   ]
  },
  {
   "cell_type": "code",
   "execution_count": 23,
   "metadata": {},
   "outputs": [
    {
     "data": {
      "text/plain": [
       "True"
      ]
     },
     "execution_count": 23,
     "metadata": {},
     "output_type": "execute_result"
    }
   ],
   "source": [
    "flag = is_central_points_on_polygons(contours_list[1][8],central_points_list[0][6])\n",
    "flag"
   ]
  },
  {
   "cell_type": "code",
   "execution_count": 9,
   "metadata": {},
   "outputs": [
    {
     "name": "stdout",
     "output_type": "stream",
     "text": [
      "[[[224 390]]\n",
      "\n",
      " [[223 391]]\n",
      "\n",
      " [[221 391]]\n",
      "\n",
      " [[220 392]]\n",
      "\n",
      " [[219 392]]\n",
      "\n",
      " [[214 397]]\n",
      "\n",
      " [[214 398]]\n",
      "\n",
      " [[213 399]]\n",
      "\n",
      " [[213 400]]\n",
      "\n",
      " [[212 401]]\n",
      "\n",
      " [[212 406]]\n",
      "\n",
      " [[213 407]]\n",
      "\n",
      " [[213 408]]\n",
      "\n",
      " [[214 409]]\n",
      "\n",
      " [[215 409]]\n",
      "\n",
      " [[216 410]]\n",
      "\n",
      " [[217 410]]\n",
      "\n",
      " [[218 411]]\n",
      "\n",
      " [[223 411]]\n",
      "\n",
      " [[224 410]]\n",
      "\n",
      " [[228 410]]\n",
      "\n",
      " [[229 409]]\n",
      "\n",
      " [[232 409]]\n",
      "\n",
      " [[235 406]]\n",
      "\n",
      " [[235 405]]\n",
      "\n",
      " [[234 404]]\n",
      "\n",
      " [[234 403]]\n",
      "\n",
      " [[233 402]]\n",
      "\n",
      " [[233 401]]\n",
      "\n",
      " [[232 400]]\n",
      "\n",
      " [[232 399]]\n",
      "\n",
      " [[231 398]]\n",
      "\n",
      " [[231 397]]\n",
      "\n",
      " [[230 396]]\n",
      "\n",
      " [[230 395]]\n",
      "\n",
      " [[229 394]]\n",
      "\n",
      " [[229 393]]\n",
      "\n",
      " [[228 392]]\n",
      "\n",
      " [[227 392]]\n",
      "\n",
      " [[226 391]]\n",
      "\n",
      " [[225 391]]]\n"
     ]
    }
   ],
   "source": [
    "plot_central_points(0,contours_list[0])"
   ]
  },
  {
   "cell_type": "code",
   "execution_count": 17,
   "metadata": {},
   "outputs": [],
   "source": [
    "cv2.circle(img,(int(central_points_1[0][0]),int(central_points_1[0][1])),1,(0,255,0),4)\n",
    "cv2.imshow(\"draw\", img)\n",
    "\n",
    "cv2.waitKey(0)\n",
    "cv2.destroyAllWindows()"
   ]
  },
  {
   "cell_type": "code",
   "execution_count": 9,
   "metadata": {},
   "outputs": [
    {
     "data": {
      "text/plain": [
       "array([[311.5, 415. ],\n",
       "       [317.5, 408. ]])"
      ]
     },
     "execution_count": 9,
     "metadata": {},
     "output_type": "execute_result"
    }
   ],
   "source": [
    "central_points_1"
   ]
  },
  {
   "cell_type": "code",
   "execution_count": null,
   "metadata": {},
   "outputs": [],
   "source": [
    "font = cv2.FONT_HERSHEY_SIMPLEX\n",
    "cv2.putText(img, \"P\", (int(central_points_1[0][0]),int(central_points_1[0][1])), font, 1, (0, 255, 0), 1)"
   ]
  },
  {
   "cell_type": "code",
   "execution_count": 13,
   "metadata": {},
   "outputs": [],
   "source": [
    "cv2.imshow(\"draw\", img)\n",
    "\n",
    "cv2.waitKey(0)\n",
    "cv2.destroyAllWindows()"
   ]
  },
  {
   "cell_type": "code",
   "execution_count": 22,
   "metadata": {},
   "outputs": [
    {
     "data": {
      "text/plain": [
       "<matplotlib.image.AxesImage at 0x1b78d953fd0>"
      ]
     },
     "execution_count": 22,
     "metadata": {},
     "output_type": "execute_result"
    },
    {
     "data": {
      "image/png": "[encoded data removed]",
      "text/plain": [
       "<Figure size 432x288 with 1 Axes>"
      ]
     },
     "metadata": {
      "needs_background": "light"
     },
     "output_type": "display_data"
    }
   ],
   "source": [
    "import matplotlib.pyplot as plt\n",
    "plt.imshow(img)"
   ]
  },
  {
   "cell_type": "code",
   "execution_count": 39,
   "metadata": {},
   "outputs": [
    {
     "data": {
      "text/plain": [
       "<matplotlib.image.AxesImage at 0x1b79932d908>"
      ]
     },
     "execution_count": 39,
     "metadata": {},
     "output_type": "execute_result"
    },
    {
     "data": {
      "image/png": "[encoded data removed]",
      "text/plain": [
       "<Figure size 432x288 with 1 Axes>"
      ]
     },
     "metadata": {
      "needs_background": "light"
     },
     "output_type": "display_data"
    }
   ],
   "source": [
    "plt.imshow(contours_list[1][1][:,0,: ])"
   ]
  },
  {
   "cell_type": "code",
   "execution_count": 23,
   "metadata": {},
   "outputs": [],
   "source": [
    "point1 = central_points_list[1]"
   ]
  },
  {
   "cell_type": "code",
   "execution_count": 28,
   "metadata": {},
   "outputs": [
    {
     "data": {
      "text/plain": [
       "array([[311.5, 415. ],\n",
       "       [317.5, 408. ]])"
      ]
     },
     "execution_count": 28,
     "metadata": {},
     "output_type": "execute_result"
    }
   ],
   "source": [
    "point1[1]"
   ]
  },
  {
   "cell_type": "code",
   "execution_count": 27,
   "metadata": {},
   "outputs": [
    {
     "data": {
      "text/plain": [
       "<matplotlib.image.AxesImage at 0x1b78dbc8d30>"
      ]
     },
     "execution_count": 27,
     "metadata": {},
     "output_type": "execute_result"
    },
    {
     "data": {
      "image/png": "[encoded data removed]",
      "text/plain": [
       "<Figure size 432x288 with 1 Axes>"
      ]
     },
     "metadata": {
      "needs_background": "light"
     },
     "output_type": "display_data"
    }
   ],
   "source": [
    "plt.imshow(point1[1])"
   ]
  },
  {
   "cell_type": "code",
   "execution_count": 35,
   "metadata": {},
   "outputs": [],
   "source": [
    "point1= (central_points_list[1][0][0][0],central_points_list[1][0][0][1])"
   ]
  },
  {
   "cell_type": "code",
   "execution_count": 37,
   "metadata": {},
   "outputs": [
    {
     "data": {
      "text/plain": [
       "(261.0, 457.5)"
      ]
     },
     "execution_count": 37,
     "metadata": {},
     "output_type": "execute_result"
    }
   ],
   "source": [
    "point1"
   ]
  },
  {
   "cell_type": "code",
   "execution_count": 33,
   "metadata": {},
   "outputs": [],
   "source": [
    "flag = cv2.pointPolygonTest(contours_list[1][1],(central_points_list[1][0][0][0],central_points_list[1][0][0][1]),False)"
   ]
  },
  {
   "cell_type": "code",
   "execution_count": 34,
   "metadata": {},
   "outputs": [
    {
     "data": {
      "text/plain": [
       "-1.0"
      ]
     },
     "execution_count": 34,
     "metadata": {},
     "output_type": "execute_result"
    }
   ],
   "source": [
    "flag"
   ]
  },
  {
   "cell_type": "code",
   "execution_count": null,
   "metadata": {},
   "outputs": [],
   "source": []
  }
 ],
 "metadata": {
  "interpreter": {
   "hash": "f9719a25c65eac2f80fd272a8fefc475a57736c3f377a18a2c15c9b142141fa2"
  },
  "kernelspec": {
   "display_name": "Python 3.6.13 64-bit ('torch': conda)",
   "language": "python",
   "name": "python3"
  },
  "language_info": {
   "codemirror_mode": {
    "name": "ipython",
    "version": 3
   },
   "file_extension": ".py",
   "mimetype": "text/x-python",
   "name": "python",
   "nbconvert_exporter": "python",
   "pygments_lexer": "ipython3",
   "version": "3.6.13"
  },
  "orig_nbformat": 4
 },
 "nbformat": 4,
 "nbformat_minor": 2
}
